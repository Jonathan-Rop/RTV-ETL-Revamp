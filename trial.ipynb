{
 "cells": [
  {
   "cell_type": "code",
   "execution_count": 5,
   "id": "1287c09c",
   "metadata": {},
   "outputs": [],
   "source": [
    "import pandas as pd"
   ]
  },
  {
   "cell_type": "code",
   "execution_count": null,
   "id": "9b25db27",
   "metadata": {},
   "outputs": [
    {
     "name": "stderr",
     "output_type": "stream",
     "text": [
      "C:\\Users\\Collins\\AppData\\Local\\Temp\\ipykernel_14408\\2646843798.py:1: DtypeWarning: Columns (17,50,59,73,78,87,104,105,107,108,384,385,386,417,418,419,450,451,452,483,484,485,516,517,518,559,560,561,570,578,595,608,618,644,1016,1052,1077,1102,1127,1152,1177,1202,1277,1302,1327,1352,1377,1427,1577,1627,1652,1677,1696,1702,1744,1768,1776,1784,1825,1840,1843,1846,1849,1874,1886,1889,1989,1992,1995,1998,2001,2009,2012,2015,2018,2036,2041,2053,2058,2065,2073,2076,2083,2090,2106,2145,2160,2161,2191,2229,2282,2293,2372,2383,2507,2518,2552,2563,2687,2698,2732,2743,2777,2788,2822,2833,2867,2878,2957,2968,3227,3238,3272,3283,3317,3328,3404,3484,3537,3548,3582,3593,3627,3638,3672,3683,3762,3773,3807,3818,3942,3953,3987,3998,4032,4043,4077,4088,4122,4133,4167,4178,4212,4223,4437,4448,4482,4493,4527,4538,4572,4583,4617,4628,4659,4662,4673,4744,4757,4830,4843,4873,4886,5002,5015,5045,5058,5088,5101,5131,5144,5174,5187,5217,5230,5260,5273,5303,5316,5389,5402,5647,5660,5733,5746,5862,6242,6282,6416,6596) have mixed types. Specify dtype option on import or set low_memory=False.\n",
      "  df =  pd.read_csv('01_baseline.csv')\n"
     ]
    }
   ],
   "source": [
    "df =  pd.read_csv('01_baseline.csv')"
   ]
  },
  {
   "cell_type": "code",
   "execution_count": 3,
   "id": "46e3176d",
   "metadata": {},
   "outputs": [
    {
     "ename": "NameError",
     "evalue": "name 'df' is not defined",
     "output_type": "error",
     "traceback": [
      "\u001b[1;31m---------------------------------------------------------------------------\u001b[0m",
      "\u001b[1;31mNameError\u001b[0m                                 Traceback (most recent call last)",
      "Cell \u001b[1;32mIn[3], line 1\u001b[0m\n\u001b[1;32m----> 1\u001b[0m \u001b[43mdf\u001b[49m\u001b[38;5;241m.\u001b[39mshow()\n",
      "\u001b[1;31mNameError\u001b[0m: name 'df' is not defined"
     ]
    }
   ],
   "source": [
    "df.show()"
   ]
  }
 ],
 "metadata": {
  "kernelspec": {
   "display_name": "Python 3",
   "language": "python",
   "name": "python3"
  },
  "language_info": {
   "codemirror_mode": {
    "name": "ipython",
    "version": 3
   },
   "file_extension": ".py",
   "mimetype": "text/x-python",
   "name": "python",
   "nbconvert_exporter": "python",
   "pygments_lexer": "ipython3",
   "version": "3.13.1"
  }
 },
 "nbformat": 4,
 "nbformat_minor": 5
}
